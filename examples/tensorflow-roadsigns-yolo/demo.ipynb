{
 "cells": [
  {
   "cell_type": "markdown",
   "metadata": {},
   "source": [
    "# Tensorflow Road Signs YOLO Demo"
   ]
  },
  {
   "cell_type": "markdown",
   "metadata": {},
   "source": [
    ">⚠️ **Warning:** This demo assumes that you have access to an on-prem deployment of Dioptra that provides a copy of the Road Signs dataset and a CUDA-compatible GPU.\n",
    "> This demo cannot be run on a typical personal computer.\n",
    "\n",
    "The demo provided in the Jupyter notebook `demo.ipynb` contains an example of how to set up and train a model based on the YOLO v1 architecture and use it to perform object detection on the Road Signs dataset."
   ]
  },
  {
   "cell_type": "markdown",
   "metadata": {},
   "source": [
    "## Setup"
   ]
  },
  {
   "cell_type": "code",
   "execution_count": 1,
   "metadata": {},
   "outputs": [],
   "source": [
    "# Import packages from the Python standard library\n",
    "import os\n",
    "import pprint\n",
    "import random\n",
    "import time\n",
    "import warnings\n",
    "from pathlib import Path\n",
    "from typing import Tuple\n",
    "\n",
    "# Please enter custom username here.\n",
    "USERNAME = \"jglasbrenner\"\n",
    "\n",
    "# Filter out warning messages\n",
    "warnings.filterwarnings(\"ignore\")\n",
    "\n",
    "# Address for connecting the docker container to exposed ports on the host device\n",
    "HOST_DOCKER_INTERNAL = \"host.docker.internal\"\n",
    "# HOST_DOCKER_INTERNAL = \"172.17.0.1\"\n",
    "\n",
    "# Testbed API ports\n",
    "RESTAPI_PORT = \"20080\"\n",
    "MLFLOW_TRACKING_PORT = \"25000\"\n",
    "\n",
    "# Default address for accessing the RESTful API service\n",
    "RESTAPI_ADDRESS = (\n",
    "    # f\"http://{HOST_DOCKER_INTERNAL}:{RESTAPI_PORT}\"\n",
    "    f\"http://restapi:{RESTAPI_PORT}\"\n",
    "    if os.getenv(\"IS_JUPYTER_SERVICE\")\n",
    "    else f\"http://localhost:{RESTAPI_PORT}\"\n",
    ")\n",
    "\n",
    "# Override the AI_RESTAPI_URI variable, used to connect to RESTful API service\n",
    "os.environ[\"AI_RESTAPI_URI\"] = RESTAPI_ADDRESS\n",
    "\n",
    "# Default address for accessing the MLFlow Tracking server\n",
    "MLFLOW_TRACKING_URI = (\n",
    "    # f\"http://{HOST_DOCKER_INTERNAL}:{MLFLOW_TRACKING_PORT}\"\n",
    "    f\"http://mlflow-tracking:{MLFLOW_TRACKING_PORT}\"\n",
    "    if os.getenv(\"IS_JUPYTER_SERVICE\")\n",
    "    else f\"http://localhost:{MLFLOW_TRACKING_PORT}\"\n",
    ")\n",
    "\n",
    "# Override the MLFLOW_TRACKING_URI variable, used to connect to MLFlow Tracking service\n",
    "os.environ[\"MLFLOW_TRACKING_URI\"] = MLFLOW_TRACKING_URI\n",
    "\n",
    "# Path to custom task plugins archives\n",
    "CUSTOM_PLUGINS_BACKEND_CONFIGS_TAR_GZ = Path(\"custom-plugins-backend-configs.tar.gz\")\n",
    "CUSTOM_PLUGINS_EVALUATION_TAR_GZ = Path(\"custom-plugins-evaluation.tar.gz\")\n",
    "CUSTOM_PLUGINS_ROADSIGNS_YOLO_ESTIMATORS_TAR_GZ = Path(\"custom-plugins-roadsigns-yolo-estimators.tar.gz\")\n",
    "CUSTOM_PLUGINS_TRACKING_TAR_GZ = Path(\"custom-plugins-tracking.tar.gz\")\n",
    "\n",
    "# Base API address\n",
    "RESTAPI_API_BASE = f\"{RESTAPI_ADDRESS}/api\"\n",
    "\n",
    "# Path to workflows archive\n",
    "WORKFLOWS_TAR_GZ = Path(\"workflows.tar.gz\")\n",
    "\n",
    "# Experiment name (note the username_ prefix convention)\n",
    "EXPERIMENT_NAME = f\"{USERNAME}_roadsigns_yolo\"\n",
    "\n",
    "# Import third-party Python packages\n",
    "import numpy as np\n",
    "import requests\n",
    "from mlflow.tracking import MlflowClient\n",
    "\n",
    "# Import utils.py file\n",
    "import utils\n",
    "\n",
    "# Create random number generator\n",
    "rng = np.random.default_rng(54399264723942495723666216079516778448)"
   ]
  },
  {
   "cell_type": "markdown",
   "metadata": {},
   "source": [
    "## Dataset"
   ]
  },
  {
   "cell_type": "markdown",
   "metadata": {},
   "source": [
    "The Road Signs dataset needed for this demo can be obtained here: https://makeml.app/datasets/road-signs.\n",
    "Object bounding boxes are provided in the PascalVOC format, which organizes the dataset into two folders:\n",
    "\n",
    "    annotations/  (xml files)\n",
    "    images/       (png files)\n",
    "\n",
    "The PascalVOC format uses filenames to associate images with their corresponding annotation.\n",
    "For example, the image file `images/road1.png` has an associated annotation file `annotations/road1.xml`.\n",
    "\n",
    "This dataset does not provide a testing dataset, so we need to create our own.\n",
    "We do this by stratifying over the number of objects and classes in the images and sampling 10% of the images without replacement within each of these groups.\n",
    "The exact train/test split we used is reported in the `roadsigns_train_test_split.csv` file.\n",
    "\n",
    "After performing our train/test split, our data is reorganized into the following folder structure:"
   ]
  },
  {
   "cell_type": "markdown",
   "metadata": {},
   "source": [
    "    roadsigns\n",
    "    ├── testing\n",
    "    │   ├── annotations\n",
    "    │   └── images\n",
    "    └── training\n",
    "        ├── annotations\n",
    "        └── images"
   ]
  },
  {
   "cell_type": "markdown",
   "metadata": {},
   "source": [
    "## Submit and run jobs"
   ]
  },
  {
   "cell_type": "markdown",
   "metadata": {},
   "source": [
    "The entrypoints that we will be running in this example are implemented in the Python source files under `src/` and the `MLproject` file.\n",
    "To run these entrypoints within the testbed architecture, we need to package those files up into an archive and submit it to the Testbed RESTful API to create a new job.\n",
    "For convenience, the `Makefile` provides a rule for creating the archive file for this example, just run `make workflows`,"
   ]
  },
  {
   "cell_type": "code",
   "execution_count": null,
   "metadata": {},
   "outputs": [],
   "source": [
    "%%bash\n",
    "\n",
    "# Create the workflows.tar.gz file\n",
    "make workflows"
   ]
  },
  {
   "cell_type": "markdown",
   "metadata": {},
   "source": [
    "To connect with the endpoint, we will use a client class defined in the `utils.py` file that is able to connect with the Testbed RESTful API using the HTTP protocol.\n",
    "We connect using the client below, which uses the environment variable `AI_RESTAPI_URI` to figure out how to connect to the Testbed RESTful API,"
   ]
  },
  {
   "cell_type": "code",
   "execution_count": 17,
   "metadata": {},
   "outputs": [],
   "source": [
    "restapi_client = utils.SecuringAIClient()"
   ]
  },
  {
   "cell_type": "markdown",
   "metadata": {},
   "source": [
    "We need to register an experiment under which to collect our job runs.\n",
    "The code below checks if the relevant experiment exists.\n",
    "If it does, then it just returns info about the experiment, if it doesn't, it then registers the new experiment."
   ]
  },
  {
   "cell_type": "code",
   "execution_count": null,
   "metadata": {},
   "outputs": [],
   "source": [
    "response_experiment = restapi_client.get_experiment_by_name(name=EXPERIMENT_NAME)\n",
    "\n",
    "if response_experiment is None or \"Not Found\" in response_experiment.get(\"message\", []):\n",
    "    response_experiment = restapi_client.register_experiment(name=EXPERIMENT_NAME)\n",
    "\n",
    "response_experiment"
   ]
  },
  {
   "cell_type": "markdown",
   "metadata": {},
   "source": [
    "We should also check which queues are available for running our jobs to make sure that the resources that we need are available.\n",
    "The code below queries the Testbed API and returns a list of active queues."
   ]
  },
  {
   "cell_type": "code",
   "execution_count": null,
   "metadata": {},
   "outputs": [],
   "source": [
    "restapi_client.list_queues()"
   ]
  },
  {
   "cell_type": "code",
   "execution_count": null,
   "metadata": {},
   "outputs": [],
   "source": [
    "response_queue = restapi_client.get_queue_by_name(name=\"tensorflow_gpu\")\n",
    "\n",
    "if response_queue is None or \"Not Found\" in response_queue.get(\"message\", []):\n",
    "    response_queue = restapi_client.register_queue(name=\"tensorflow_gpu\")\n",
    "\n",
    "response_queue"
   ]
  },
  {
   "cell_type": "markdown",
   "metadata": {},
   "source": [
    "This example also makes use of the `evaluation` and `roadsigns_yolo_estimators` packages stored locally under the `task-plugins/securingai_custom` directory.\n",
    "To register these custom task plugins, we first need to package them up into an archive.\n",
    "For convenience, the `Makefile` provides a rule for creating the custom task plugins archive file, just run `make custom-plugins`,"
   ]
  },
  {
   "cell_type": "code",
   "execution_count": null,
   "metadata": {},
   "outputs": [],
   "source": [
    "# Delete the 'backend_configs' custom task plugin package\n",
    "restapi_client.delete_custom_task_plugin(name=\"backend_configs\")\n",
    "\n",
    "# Delete the 'evaluation' custom task plugin package\n",
    "restapi_client.delete_custom_task_plugin(name=\"evaluation\")\n",
    "\n",
    "# Delete the `roadsigns_yolo_estimators` package\n",
    "restapi_client.delete_custom_task_plugin(name=\"roadsigns_yolo_estimators\")\n",
    "\n",
    "# Delete the 'tracking' custom task plugin package\n",
    "restapi_client.delete_custom_task_plugin(name=\"tracking\")"
   ]
  },
  {
   "cell_type": "code",
   "execution_count": null,
   "metadata": {},
   "outputs": [],
   "source": [
    "%%bash\n",
    "\n",
    "# Create the workflows.tar.gz file\n",
    "make custom-plugins"
   ]
  },
  {
   "cell_type": "markdown",
   "metadata": {},
   "source": [
    "Now that the custom task plugin packages are packaged into archive files, next we register them by uploading the files to the REST API.\n",
    "Note that we need to provide the name to use for custom task plugin package, and this name must be unique under the custom task plugins namespace.\n",
    "For a full list of the custom task plugins, use `restapi_client.restapi_client.list_custom_task_plugins()`."
   ]
  },
  {
   "cell_type": "code",
   "execution_count": null,
   "metadata": {},
   "outputs": [],
   "source": [
    "response_backend_configs_custom_plugins = restapi_client.get_custom_task_plugin(name=\"backend_configs\")\n",
    "\n",
    "if response_backend_configs_custom_plugins is None or \"Not Found\" in response_backend_configs_custom_plugins.get(\"message\", []):\n",
    "    response_backend_configs_custom_plugins = restapi_client.upload_custom_plugin_package(\n",
    "        custom_plugin_name=\"backend_configs\",\n",
    "        custom_plugin_file=CUSTOM_PLUGINS_BACKEND_CONFIGS_TAR_GZ,\n",
    "    )\n",
    "\n",
    "response_backend_configs_custom_plugins"
   ]
  },
  {
   "cell_type": "code",
   "execution_count": null,
   "metadata": {},
   "outputs": [],
   "source": [
    "response_evaluation_custom_plugins = restapi_client.get_custom_task_plugin(name=\"evaluation\")\n",
    "\n",
    "if response_evaluation_custom_plugins is None or \"Not Found\" in response_evaluation_custom_plugins.get(\"message\", []):\n",
    "    response_evaluation_custom_plugins = restapi_client.upload_custom_plugin_package(\n",
    "        custom_plugin_name=\"evaluation\",\n",
    "        custom_plugin_file=CUSTOM_PLUGINS_EVALUATION_TAR_GZ,\n",
    "    )\n",
    "\n",
    "response_evaluation_custom_plugins"
   ]
  },
  {
   "cell_type": "code",
   "execution_count": null,
   "metadata": {},
   "outputs": [],
   "source": [
    "response_roadsigns_custom_plugins = restapi_client.get_custom_task_plugin(name=\"roadsigns_yolo_estimators\")\n",
    "\n",
    "if response_roadsigns_custom_plugins is None or \"Not Found\" in response_roadsigns_custom_plugins.get(\"message\", []):\n",
    "    response_roadsigns_custom_plugins = restapi_client.upload_custom_plugin_package(\n",
    "        custom_plugin_name=\"roadsigns_yolo_estimators\",\n",
    "        custom_plugin_file=CUSTOM_PLUGINS_ROADSIGNS_YOLO_ESTIMATORS_TAR_GZ,\n",
    "    )\n",
    "\n",
    "response_roadsigns_custom_plugins"
   ]
  },
  {
   "cell_type": "code",
   "execution_count": null,
   "metadata": {},
   "outputs": [],
   "source": [
    "response_tracking_custom_plugins = restapi_client.get_custom_task_plugin(name=\"tracking\")\n",
    "\n",
    "if response_tracking_custom_plugins is None or \"Not Found\" in response_tracking_custom_plugins.get(\"message\", []):\n",
    "    response_tracking_custom_plugins = restapi_client.upload_custom_plugin_package(\n",
    "        custom_plugin_name=\"tracking\",\n",
    "        custom_plugin_file=CUSTOM_PLUGINS_TRACKING_TAR_GZ,\n",
    "    )\n",
    "\n",
    "response_tracking_custom_plugins"
   ]
  },
  {
   "cell_type": "markdown",
   "metadata": {},
   "source": [
    "If at any point you need to update one or more files within the `backend_configs`, `evaluation`, or `roadsigns_yolo_estimators` packages, you will need to unregister/delete the custom task plugin first using the REST API.\n",
    "This can be done as follows,"
   ]
  },
  {
   "cell_type": "markdown",
   "metadata": {},
   "source": [
    "```python\n",
    "# Delete the 'backend_configs' custom task plugin package\n",
    "restapi_client.delete_custom_task_plugin(name=\"backend_configs\")\n",
    "\n",
    "# Delete the 'evaluation' custom task plugin package\n",
    "restapi_client.delete_custom_task_plugin(name=\"evaluation\")\n",
    "\n",
    "# Delete the `roadsigns_yolo_estimators` package\n",
    "restapi_client.delete_custom_task_plugin(name=\"roadsigns_yolo_estimators\")\n",
    "\n",
    "# Delete the `tracking` package\n",
    "restapi_client.delete_custom_task_plugin(name=\"tracking\")\n",
    "```"
   ]
  },
  {
   "cell_type": "code",
   "execution_count": null,
   "metadata": {},
   "outputs": [],
   "source": [
    "# Delete the 'backend_configs' custom task plugin package\n",
    "restapi_client.delete_custom_task_plugin(name=\"backend_configs\")\n",
    "\n",
    "# Delete the 'evaluation' custom task plugin package\n",
    "restapi_client.delete_custom_task_plugin(name=\"evaluation\")\n",
    "\n",
    "# Delete the `roadsigns_yolo_estimators` package\n",
    "restapi_client.delete_custom_task_plugin(name=\"roadsigns_yolo_estimators\")\n",
    "\n",
    "# Delete the `tracking` package\n",
    "restapi_client.delete_custom_task_plugin(name=\"tracking\")"
   ]
  },
  {
   "cell_type": "markdown",
   "metadata": {},
   "source": [
    "After you have deleted the task plugin in the testbed, re-run the `make custom-plugins` code block to update the package archive, then upload the updated plugin by re-running the `restapi_client.upload_custom_plugin_packge` block."
   ]
  },
  {
   "cell_type": "markdown",
   "metadata": {},
   "source": [
    "Next, we need to use transfer learning to update the object detection layers in our model."
   ]
  },
  {
   "cell_type": "markdown",
   "metadata": {},
   "source": [
    "```python\n",
    "# Submit transfer learning job for the mobilenet_v2 + yolo network architecture\n",
    "response_mobilenet_v2_yolo_transfer_learn = restapi_client.submit_job(\n",
    "    workflows_file=WORKFLOWS_TAR_GZ,\n",
    "    experiment_name=EXPERIMENT_NAME,\n",
    "    queue=\"tensorflow_gpu\",\n",
    "    entry_point=\"transfer_learn\",\n",
    "    entry_point_kwargs=\" \".join([\n",
    "        \"-P data_dir=/nfs/data/roadsigns/training\",\n",
    "        \"-P model_architecture=mobilenet_v2\",\n",
    "        \"-P epochs=300\",\n",
    "        \"-P batch_size=32\",\n",
    "        f\"-P register_model_name={EXPERIMENT_NAME}_mobilenet_v2_yolo\",\n",
    "    ]),\n",
    ")\n",
    "\n",
    "print(\"Transfer learning job for MobileNet V2 + YOLO neural network submitted\")\n",
    "print(\"\")\n",
    "pprint.pprint(response_mobilenet_v2_yolo_transfer_learn)\n",
    "```"
   ]
  },
  {
   "cell_type": "code",
   "execution_count": null,
   "metadata": {},
   "outputs": [],
   "source": [
    "# Submit transfer learning job for the mobilenet_v2 + yolo network architecture\n",
    "response_mobilenet_v2_yolo_transfer_learn = restapi_client.submit_job(\n",
    "    workflows_file=WORKFLOWS_TAR_GZ,\n",
    "    experiment_name=EXPERIMENT_NAME,\n",
    "    queue=\"tensorflow_gpu\",\n",
    "    entry_point=\"transfer_learn\",\n",
    "    entry_point_kwargs=\" \".join([\n",
    "        \"-P data_dir=/nfs/data/roadsigns/training\",\n",
    "        \"-P model_architecture=mobilenet_v2\",\n",
    "        \"-P epochs=300\",\n",
    "        \"-P batch_size=32\",\n",
    "        # f\"-P register_model_name={EXPERIMENT_NAME}_mobilenet_v2_yolo\",\n",
    "    ]),\n",
    ")\n",
    "\n",
    "print(\"Transfer learning job for MobileNet V2 + YOLO neural network submitted\")\n",
    "print(\"\")\n",
    "pprint.pprint(response_mobilenet_v2_yolo_transfer_learn)"
   ]
  },
  {
   "cell_type": "code",
   "execution_count": 21,
   "metadata": {},
   "outputs": [
    {
     "name": "stdout",
     "output_type": "stream",
     "text": [
      "{'collection': 'securingai_custom',\n",
      " 'status': 'Success',\n",
      " 'taskPluginName': ['backend_configs']}\n",
      "{'collection': 'securingai_custom',\n",
      " 'status': 'Success',\n",
      " 'taskPluginName': ['evaluation']}\n",
      "{'collection': 'securingai_custom',\n",
      " 'status': 'Success',\n",
      " 'taskPluginName': ['roadsigns_yolo_estimators']}\n",
      "{'collection': 'securingai_custom',\n",
      " 'status': 'Success',\n",
      " 'taskPluginName': ['tracking']}\n"
     ]
    }
   ],
   "source": [
    "# Delete the 'backend_configs' custom task plugin package\n",
    "pprint.pprint(restapi_client.delete_custom_task_plugin(name=\"backend_configs\"))\n",
    "\n",
    "# Delete the 'evaluation' custom task plugin package\n",
    "pprint.pprint(restapi_client.delete_custom_task_plugin(name=\"evaluation\"))\n",
    "\n",
    "# Delete the `roadsigns_yolo_estimators` package\n",
    "pprint.pprint(restapi_client.delete_custom_task_plugin(name=\"roadsigns_yolo_estimators\"))\n",
    "\n",
    "# Delete the `tracking` package\n",
    "pprint.pprint(restapi_client.delete_custom_task_plugin(name=\"tracking\"))"
   ]
  },
  {
   "cell_type": "code",
   "execution_count": 22,
   "metadata": {},
   "outputs": [
    {
     "name": "stdout",
     "output_type": "stream",
     "text": [
      "tar -C task-plugins/securingai_custom -czf custom-plugins-roadsigns-yolo-estimators.tar.gz roadsigns_yolo_estimators/__init__.py roadsigns_yolo_estimators/data.py roadsigns_yolo_estimators/feature_extraction_layers.py roadsigns_yolo_estimators/finetuning.py roadsigns_yolo_estimators/keras_classifiers.py roadsigns_yolo_estimators/keras_object_detectors.py roadsigns_yolo_estimators/losses.py roadsigns_yolo_estimators/methods.py roadsigns_yolo_estimators/metrics.py roadsigns_yolo_estimators/output_layers.py roadsigns_yolo_estimators/utils.py\n",
      "chmod 644 custom-plugins-roadsigns-yolo-estimators.tar.gz\n",
      "tar  -czf workflows.tar.gz src/infer.py src/transfer_learn.py MLproject\n",
      "chmod 644 workflows.tar.gz\n"
     ]
    }
   ],
   "source": [
    "%%bash\n",
    "\n",
    "# Create the workflows.tar.gz file\n",
    "make custom-plugins workflows"
   ]
  },
  {
   "cell_type": "code",
   "execution_count": null,
   "metadata": {},
   "outputs": [],
   "source": [
    "response_backend_configs_custom_plugins = restapi_client.get_custom_task_plugin(name=\"backend_configs\")\n",
    "\n",
    "if response_backend_configs_custom_plugins is None or \"Not Found\" in response_backend_configs_custom_plugins.get(\"message\", []):\n",
    "    response_backend_configs_custom_plugins = restapi_client.upload_custom_plugin_package(\n",
    "        custom_plugin_name=\"backend_configs\",\n",
    "        custom_plugin_file=CUSTOM_PLUGINS_BACKEND_CONFIGS_TAR_GZ,\n",
    "    )\n",
    "\n",
    "pprint.pprint(response_backend_configs_custom_plugins)\n",
    "\n",
    "response_evaluation_custom_plugins = restapi_client.get_custom_task_plugin(name=\"evaluation\")\n",
    "\n",
    "if response_evaluation_custom_plugins is None or \"Not Found\" in response_evaluation_custom_plugins.get(\"message\", []):\n",
    "    response_evaluation_custom_plugins = restapi_client.upload_custom_plugin_package(\n",
    "        custom_plugin_name=\"evaluation\",\n",
    "        custom_plugin_file=CUSTOM_PLUGINS_EVALUATION_TAR_GZ,\n",
    "    )\n",
    "\n",
    "pprint.pprint(response_evaluation_custom_plugins)\n",
    "\n",
    "response_roadsigns_custom_plugins = restapi_client.get_custom_task_plugin(name=\"roadsigns_yolo_estimators\")\n",
    "\n",
    "if response_roadsigns_custom_plugins is None or \"Not Found\" in response_roadsigns_custom_plugins.get(\"message\", []):\n",
    "    response_roadsigns_custom_plugins = restapi_client.upload_custom_plugin_package(\n",
    "        custom_plugin_name=\"roadsigns_yolo_estimators\",\n",
    "        custom_plugin_file=CUSTOM_PLUGINS_ROADSIGNS_YOLO_ESTIMATORS_TAR_GZ,\n",
    "    )\n",
    "\n",
    "pprint.pprint(response_roadsigns_custom_plugins)\n",
    "\n",
    "response_tracking_custom_plugins = restapi_client.get_custom_task_plugin(name=\"tracking\")\n",
    "\n",
    "if response_tracking_custom_plugins is None or \"Not Found\" in response_tracking_custom_plugins.get(\"message\", []):\n",
    "    response_tracking_custom_plugins = restapi_client.upload_custom_plugin_package(\n",
    "        custom_plugin_name=\"tracking\",\n",
    "        custom_plugin_file=CUSTOM_PLUGINS_TRACKING_TAR_GZ,\n",
    "    )\n",
    "\n",
    "pprint.pprint(response_tracking_custom_plugins)\n",
    "\n",
    "# Submit transfer learning job for the mobilenet_v2 + yolo network architecture\n",
    "response_mobilenet_v2_yolo_transfer_learn = restapi_client.submit_job(\n",
    "    workflows_file=WORKFLOWS_TAR_GZ,\n",
    "    experiment_name=EXPERIMENT_NAME,\n",
    "    queue=\"tensorflow_gpu\",\n",
    "    entry_point=\"transfer_learn\",\n",
    "    entry_point_kwargs=\" \".join([\n",
    "        \"-P data_dir=/nfs/data/roadsigns/training\",\n",
    "        \"-P model_architecture=mobilenetv2\",\n",
    "        \"-P epochs=300\",\n",
    "        \"-P batch_size=32\",\n",
    "        f\"-P register_model_name={EXPERIMENT_NAME}_mobilenetv2_yolo\",\n",
    "    ]),\n",
    ")\n",
    "\n",
    "print(\"Transfer learning job for MobileNet V2 + YOLO neural network submitted\")\n",
    "print(\"\")\n",
    "pprint.pprint(response_mobilenet_v2_yolo_transfer_learn)"
   ]
  },
  {
   "cell_type": "code",
   "execution_count": 23,
   "metadata": {},
   "outputs": [
    {
     "name": "stdout",
     "output_type": "stream",
     "text": [
      "{'collection': 'securingai_custom',\n",
      " 'modules': ['__init__.py', 'tensorflow.py'],\n",
      " 'taskPluginName': 'backend_configs'}\n",
      "{'collection': 'securingai_custom',\n",
      " 'modules': ['import_keras.py', '__init__.py', 'tensorflow.py'],\n",
      " 'taskPluginName': 'evaluation'}\n",
      "{'collection': 'securingai_custom',\n",
      " 'modules': ['utils.py',\n",
      "             'output_layers.py',\n",
      "             'keras_object_detectors.py',\n",
      "             'feature_extraction_layers.py',\n",
      "             'metrics.py',\n",
      "             '__init__.py',\n",
      "             'finetuning.py',\n",
      "             'methods.py',\n",
      "             'losses.py',\n",
      "             'data.py',\n",
      "             'keras_classifiers.py'],\n",
      " 'taskPluginName': 'roadsigns_yolo_estimators'}\n",
      "{'collection': 'securingai_custom',\n",
      " 'modules': ['__init__.py', 'mlflow.py'],\n",
      " 'taskPluginName': 'tracking'}\n",
      "Transfer learning job for MobileNet V2 + YOLO neural network submitted\n",
      "\n",
      "{'createdOn': '2022-01-08T16:57:14.915391',\n",
      " 'dependsOn': None,\n",
      " 'entryPoint': 'infer',\n",
      " 'entryPointKwargs': '-P data_dir=/nfs/data/roadsigns/testing -P batch_size=1 '\n",
      "                     '-P '\n",
      "                     'model_name=jglasbrenner_roadsigns_yolo_mobilenetv2_yolo '\n",
      "                     '-P model_version=1',\n",
      " 'experimentId': 1,\n",
      " 'jobId': '0e7be57d-5852-41ea-9c1f-586f3d38e9ec',\n",
      " 'lastModified': '2022-01-08T16:57:14.915391',\n",
      " 'mlflowRunId': None,\n",
      " 'queueId': 2,\n",
      " 'status': 'queued',\n",
      " 'timeout': '24h',\n",
      " 'workflowUri': 's3://workflow/c51192dd6daf4f55a813f8500049f21f/workflows.tar.gz'}\n"
     ]
    }
   ],
   "source": [
    "response_backend_configs_custom_plugins = restapi_client.get_custom_task_plugin(name=\"backend_configs\")\n",
    "\n",
    "if response_backend_configs_custom_plugins is None or \"Not Found\" in response_backend_configs_custom_plugins.get(\"message\", []):\n",
    "    response_backend_configs_custom_plugins = restapi_client.upload_custom_plugin_package(\n",
    "        custom_plugin_name=\"backend_configs\",\n",
    "        custom_plugin_file=CUSTOM_PLUGINS_BACKEND_CONFIGS_TAR_GZ,\n",
    "    )\n",
    "\n",
    "pprint.pprint(response_backend_configs_custom_plugins)\n",
    "\n",
    "response_evaluation_custom_plugins = restapi_client.get_custom_task_plugin(name=\"evaluation\")\n",
    "\n",
    "if response_evaluation_custom_plugins is None or \"Not Found\" in response_evaluation_custom_plugins.get(\"message\", []):\n",
    "    response_evaluation_custom_plugins = restapi_client.upload_custom_plugin_package(\n",
    "        custom_plugin_name=\"evaluation\",\n",
    "        custom_plugin_file=CUSTOM_PLUGINS_EVALUATION_TAR_GZ,\n",
    "    )\n",
    "\n",
    "pprint.pprint(response_evaluation_custom_plugins)\n",
    "\n",
    "response_roadsigns_custom_plugins = restapi_client.get_custom_task_plugin(name=\"roadsigns_yolo_estimators\")\n",
    "\n",
    "if response_roadsigns_custom_plugins is None or \"Not Found\" in response_roadsigns_custom_plugins.get(\"message\", []):\n",
    "    response_roadsigns_custom_plugins = restapi_client.upload_custom_plugin_package(\n",
    "        custom_plugin_name=\"roadsigns_yolo_estimators\",\n",
    "        custom_plugin_file=CUSTOM_PLUGINS_ROADSIGNS_YOLO_ESTIMATORS_TAR_GZ,\n",
    "    )\n",
    "\n",
    "pprint.pprint(response_roadsigns_custom_plugins)\n",
    "\n",
    "response_tracking_custom_plugins = restapi_client.get_custom_task_plugin(name=\"tracking\")\n",
    "\n",
    "if response_tracking_custom_plugins is None or \"Not Found\" in response_tracking_custom_plugins.get(\"message\", []):\n",
    "    response_tracking_custom_plugins = restapi_client.upload_custom_plugin_package(\n",
    "        custom_plugin_name=\"tracking\",\n",
    "        custom_plugin_file=CUSTOM_PLUGINS_TRACKING_TAR_GZ,\n",
    "    )\n",
    "\n",
    "pprint.pprint(response_tracking_custom_plugins)\n",
    "\n",
    "\n",
    "# Submit transfer learning job for the mobilenet_v2 + yolo network architecture\n",
    "response_mobilenet_v2_yolo_infer = restapi_client.submit_job(\n",
    "    workflows_file=WORKFLOWS_TAR_GZ,\n",
    "    experiment_name=EXPERIMENT_NAME,\n",
    "    queue=\"tensorflow_gpu\",\n",
    "    entry_point=\"infer\",\n",
    "    entry_point_kwargs=\" \".join([\n",
    "        \"-P data_dir=/nfs/data/roadsigns/testing\",\n",
    "        \"-P batch_size=1\",\n",
    "        f\"-P model_name={EXPERIMENT_NAME}_mobilenetv2_yolo\",\n",
    "        \"-P model_version=1\",\n",
    "    ]),\n",
    ")\n",
    "\n",
    "print(\"Transfer learning job for MobileNet V2 + YOLO neural network submitted\")\n",
    "print(\"\")\n",
    "pprint.pprint(response_mobilenet_v2_yolo_infer)"
   ]
  },
  {
   "cell_type": "code",
   "execution_count": 57,
   "metadata": {},
   "outputs": [],
   "source": [
    "MODELS_DIR = Path(\"models\")\n",
    "YOLO_MOBILENETV2_MODEL_DIR = MODELS_DIR / \"roadsigns_yolo_mobilenetv2_yolo\" / \"1\"\n",
    "\n",
    "PREDICTIONS_DIR = Path(\"object_detection_predictions\")\n",
    "PREDICTIONS_NPY = PREDICTIONS_DIR / \"predictions.npy\"\n",
    "BOXES_NPY = PREDICTIONS_DIR / \"boxes.npy\"\n",
    "CLASSES_NPY = PREDICTIONS_DIR / \"classes.npy\"\n",
    "NUMS_NPY = PREDICTIONS_DIR / \"nums.npy\"\n",
    "SCORES_NPY = PREDICTIONS_DIR / \"scores.npy\""
   ]
  },
  {
   "cell_type": "code",
   "execution_count": 69,
   "metadata": {},
   "outputs": [],
   "source": [
    "CUSTOM_OBJECTS_PKL = YOLO_MOBILENETV2_MODEL_DIR / \"custom_objects.cloudpickle\"\n",
    "YOLO_MOBILENETV2 = YOLO_MOBILENETV2_MODEL_DIR / \"model\""
   ]
  },
  {
   "cell_type": "code",
   "execution_count": 63,
   "metadata": {},
   "outputs": [],
   "source": [
    "import tensorflow as tf\n",
    "import cloudpickle\n",
    "from mitre.securingai.sdk.utilities.contexts import plugin_dirs"
   ]
  },
  {
   "cell_type": "code",
   "execution_count": 72,
   "metadata": {},
   "outputs": [],
   "source": [
    "with CUSTOM_OBJECTS_PKL.open(\"rb\") as f, plugin_dirs([\"task-plugins\"]):\n",
    "    custom_objects = cloudpickle.load(f)"
   ]
  },
  {
   "cell_type": "code",
   "execution_count": 73,
   "metadata": {},
   "outputs": [
    {
     "name": "stdout",
     "output_type": "stream",
     "text": [
      "WARNING:tensorflow:SavedModel saved prior to TF 2.5 detected when loading Keras model. Please ensure that you are saving the model with model.save() or tf.keras.models.save_model(), *NOT* tf.saved_model.save(). To confirm, there should be a file named \"keras_metadata.pb\" in the SavedModel directory.\n"
     ]
    }
   ],
   "source": [
    "object_detector = tf.keras.models.load_model(\n",
    "    YOLO_MOBILENETV2, custom_objects=custom_objects\n",
    ")"
   ]
  },
  {
   "cell_type": "code",
   "execution_count": 77,
   "metadata": {},
   "outputs": [
    {
     "name": "stdout",
     "output_type": "stream",
     "text": [
      "Model: \"model\"\n",
      "_________________________________________________________________\n",
      "Layer (type)                 Output Shape              Param #   \n",
      "=================================================================\n",
      "input_1 (InputLayer)         [(None, 448, 448, 3)]     0         \n",
      "_________________________________________________________________\n",
      "tf.cast (TFOpLambda)         (None, 448, 448, 3)       0         \n",
      "_________________________________________________________________\n",
      "tf.math.truediv (TFOpLambda) (None, 448, 448, 3)       0         \n",
      "_________________________________________________________________\n",
      "tf.math.subtract (TFOpLambda (None, 448, 448, 3)       0         \n",
      "_________________________________________________________________\n",
      "mobilenetv2_1.00_224 (Functi (None, 14, 14, 1280)      2257984   \n",
      "_________________________________________________________________\n",
      "max_pooling2d (MaxPooling2D) (None, 7, 7, 1280)        0         \n",
      "_________________________________________________________________\n",
      "output_conv_1 (Conv2D)       (None, 7, 7, 1280)        14746880  \n",
      "_________________________________________________________________\n",
      "output_norm_1 (BatchNormaliz (None, 7, 7, 1280)        5120      \n",
      "_________________________________________________________________\n",
      "leaky_re_lu (LeakyReLU)      (None, 7, 7, 1280)        0         \n",
      "_________________________________________________________________\n",
      "flatten (Flatten)            (None, 62720)             0         \n",
      "_________________________________________________________________\n",
      "output_dense_1 (Dense)       (None, 256)               16056576  \n",
      "_________________________________________________________________\n",
      "output_dense_2 (Dense)       (None, 4096)              1052672   \n",
      "_________________________________________________________________\n",
      "dropout (Dropout)            (None, 4096)              0         \n",
      "_________________________________________________________________\n",
      "predictions (Dense)          (None, 686)               2810542   \n",
      "_________________________________________________________________\n",
      "reshape (Reshape)            (None, 7, 7, 14)          0         \n",
      "=================================================================\n",
      "Total params: 36,929,774\n",
      "Trainable params: 36,893,102\n",
      "Non-trainable params: 36,672\n",
      "_________________________________________________________________\n"
     ]
    }
   ],
   "source": [
    "object_detector.summary()"
   ]
  },
  {
   "cell_type": "code",
   "execution_count": 30,
   "metadata": {},
   "outputs": [],
   "source": [
    "predictions = np.load(PREDICTIONS_NPY)\n",
    "boxes = np.load(BOXES_NPY)\n",
    "classes = np.load(CLASSES_NPY)\n",
    "nums = np.load(NUMS_NPY)\n",
    "scores = np.load(SCORES_NPY)"
   ]
  },
  {
   "cell_type": "code",
   "execution_count": 104,
   "metadata": {},
   "outputs": [
    {
     "data": {
      "text/plain": [
       "array([[-2.0149110e-02,  8.8731766e-02,  1.7855216e-02, -1.2511762e-02,\n",
       "         1.9298349e-02, -1.3382165e-02, -3.8883962e-02],\n",
       "       [-1.0208368e-02,  9.5023010e-03,  2.8053893e-02,  3.7045315e-02,\n",
       "         3.6403477e-02,  1.8372985e-02, -3.1135101e-03],\n",
       "       [ 9.5464043e-02,  2.9641625e-02,  1.7265847e-01,  2.7345461e-01,\n",
       "         1.2441099e-01,  5.7044391e-02,  2.7294928e-02],\n",
       "       [ 7.8367986e-02,  8.4523283e-02,  1.7458114e-01,  4.1367769e-01,\n",
       "         2.0078835e-01,  3.3028074e-02,  2.2113089e-02],\n",
       "       [-1.1239146e-02, -1.9665292e-02,  1.2908486e-01,  1.2300809e-01,\n",
       "         8.4777169e-02,  3.5155457e-02, -5.6423806e-04],\n",
       "       [-2.2612419e-02,  4.9651463e-02,  5.7586681e-02,  8.6795185e-03,\n",
       "         3.3643275e-02,  1.1738616e-02, -3.9621215e-02],\n",
       "       [ 3.5196729e-04, -2.9877417e-02,  2.3215957e-02,  2.4275975e-03,\n",
       "         7.6973468e-02, -3.1027410e-02, -1.2037779e-02]], dtype=float32)"
      ]
     },
     "execution_count": 104,
     "metadata": {},
     "output_type": "execute_result"
    }
   ],
   "source": [
    "(np.expand_dims(predictions[..., 4], -1))[0].max(axis=-1)"
   ]
  }
 ],
 "metadata": {
  "interpreter": {
   "hash": "edee40310913f16e2ca02c1d37887bcb7f07f00399ca119bb7e27de7d632ea99"
  },
  "kernelspec": {
   "display_name": "Python 3 (ipykernel)",
   "language": "python",
   "name": "python3"
  },
  "language_info": {
   "codemirror_mode": {
    "name": "ipython",
    "version": 3
   },
   "file_extension": ".py",
   "mimetype": "text/x-python",
   "name": "python",
   "nbconvert_exporter": "python",
   "pygments_lexer": "ipython3",
   "version": "3.8.12"
  }
 },
 "nbformat": 4,
 "nbformat_minor": 4
}
